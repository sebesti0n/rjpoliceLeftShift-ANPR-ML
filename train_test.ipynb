{
 "cells": [
  {
   "cell_type": "markdown",
   "id": "ecae39eb",
   "metadata": {},
   "source": [
    "# To train the Object detection Model:"
   ]
  },
  {
   "cell_type": "code",
   "execution_count": 1,
   "id": "f88ffe2f",
   "metadata": {},
   "outputs": [
    {
     "name": "stdout",
     "output_type": "stream",
     "text": [
      "Collecting ultralytics==8.0.0\n",
      "  Downloading ultralytics-8.0.0-py3-none-any.whl (219 kB)\n",
      "\u001b[2K     \u001b[38;2;114;156;31m━━━━━━━━━━━━━━━━━━━━━━━━━━━━━━━━━━━━━\u001b[0m \u001b[32m219.8/219.8 kB\u001b[0m \u001b[31m579.0 kB/s\u001b[0m eta \u001b[36m0:00:00\u001b[0m kB/s\u001b[0m eta \u001b[36m0:00:01\u001b[0m:01\u001b[0m\n",
      "\u001b[?25hCollecting hydra-core>=1.2.0 (from ultralytics==8.0.0)\n",
      "  Downloading hydra_core-1.3.2-py3-none-any.whl (154 kB)\n",
      "\u001b[2K     \u001b[38;2;114;156;31m━━━━━━━━━━━━━━━━━━━━━━━━━━━━━━━━━━━━━━━\u001b[0m \u001b[32m154.5/154.5 kB\u001b[0m \u001b[31m4.1 MB/s\u001b[0m eta \u001b[36m0:00:00\u001b[0mm eta \u001b[36m0:00:01\u001b[0m\n",
      "\u001b[?25hRequirement already satisfied: matplotlib>=3.2.2 in /home/prashan-kumar/anaconda3/lib/python3.11/site-packages (from ultralytics==8.0.0) (3.7.2)\n",
      "Requirement already satisfied: numpy>=1.18.5 in /home/prashan-kumar/anaconda3/lib/python3.11/site-packages (from ultralytics==8.0.0) (1.24.3)\n",
      "Collecting opencv-python>=4.1.1 (from ultralytics==8.0.0)\n",
      "  Obtaining dependency information for opencv-python>=4.1.1 from https://files.pythonhosted.org/packages/d9/64/7fdfb9386511cd6805451e012c537073a79a958a58795c4e602e538c388c/opencv_python-4.9.0.80-cp37-abi3-manylinux_2_17_x86_64.manylinux2014_x86_64.whl.metadata\n",
      "  Using cached opencv_python-4.9.0.80-cp37-abi3-manylinux_2_17_x86_64.manylinux2014_x86_64.whl.metadata (20 kB)\n",
      "Requirement already satisfied: Pillow>=7.1.2 in /home/prashan-kumar/anaconda3/lib/python3.11/site-packages (from ultralytics==8.0.0) (9.4.0)\n",
      "Requirement already satisfied: PyYAML>=5.3.1 in /home/prashan-kumar/anaconda3/lib/python3.11/site-packages (from ultralytics==8.0.0) (6.0)\n",
      "Requirement already satisfied: requests>=2.23.0 in /home/prashan-kumar/anaconda3/lib/python3.11/site-packages (from ultralytics==8.0.0) (2.31.0)\n",
      "Requirement already satisfied: scipy>=1.4.1 in /home/prashan-kumar/anaconda3/lib/python3.11/site-packages (from ultralytics==8.0.0) (1.11.1)\n",
      "Requirement already satisfied: torch>=1.7.0 in /home/prashan-kumar/anaconda3/lib/python3.11/site-packages (from ultralytics==8.0.0) (2.1.2)\n",
      "Requirement already satisfied: torchvision>=0.8.1 in /home/prashan-kumar/anaconda3/lib/python3.11/site-packages (from ultralytics==8.0.0) (0.16.2)\n",
      "Requirement already satisfied: tqdm>=4.64.0 in /home/prashan-kumar/anaconda3/lib/python3.11/site-packages (from ultralytics==8.0.0) (4.65.0)\n",
      "Collecting tensorboard>=2.4.1 (from ultralytics==8.0.0)\n",
      "  Obtaining dependency information for tensorboard>=2.4.1 from https://files.pythonhosted.org/packages/6e/0c/1059a6682cf2cc1fcc0d5327837b5672fe4f5574255fa5430d0a8ceb75e9/tensorboard-2.15.1-py3-none-any.whl.metadata\n",
      "  Downloading tensorboard-2.15.1-py3-none-any.whl.metadata (1.7 kB)\n",
      "Requirement already satisfied: pandas>=1.1.4 in /home/prashan-kumar/anaconda3/lib/python3.11/site-packages (from ultralytics==8.0.0) (2.0.3)\n",
      "Requirement already satisfied: seaborn>=0.11.0 in /home/prashan-kumar/anaconda3/lib/python3.11/site-packages (from ultralytics==8.0.0) (0.12.2)\n",
      "Requirement already satisfied: ipython in /home/prashan-kumar/anaconda3/lib/python3.11/site-packages (from ultralytics==8.0.0) (8.15.0)\n",
      "Requirement already satisfied: psutil in /home/prashan-kumar/anaconda3/lib/python3.11/site-packages (from ultralytics==8.0.0) (5.9.0)\n",
      "Collecting thop>=0.1.1 (from ultralytics==8.0.0)\n",
      "  Using cached thop-0.1.1.post2209072238-py3-none-any.whl (15 kB)\n",
      "Collecting GitPython>=3.1.24 (from ultralytics==8.0.0)\n",
      "  Obtaining dependency information for GitPython>=3.1.24 from https://files.pythonhosted.org/packages/45/c6/a637a7a11d4619957cb95ca195168759a4502991b1b91c13d3203ffc3748/GitPython-3.1.41-py3-none-any.whl.metadata\n",
      "  Downloading GitPython-3.1.41-py3-none-any.whl.metadata (14 kB)\n",
      "Collecting gitdb<5,>=4.0.1 (from GitPython>=3.1.24->ultralytics==8.0.0)\n",
      "  Obtaining dependency information for gitdb<5,>=4.0.1 from https://files.pythonhosted.org/packages/fd/5b/8f0c4a5bb9fd491c277c21eff7ccae71b47d43c4446c9d0c6cff2fe8c2c4/gitdb-4.0.11-py3-none-any.whl.metadata\n",
      "  Downloading gitdb-4.0.11-py3-none-any.whl.metadata (1.2 kB)\n",
      "Collecting omegaconf<2.4,>=2.2 (from hydra-core>=1.2.0->ultralytics==8.0.0)\n",
      "  Downloading omegaconf-2.3.0-py3-none-any.whl (79 kB)\n",
      "\u001b[2K     \u001b[38;2;114;156;31m━━━━━━━━━━━━━━━━━━━━━━━━━━━━━━━━━━━━━━━━\u001b[0m \u001b[32m79.5/79.5 kB\u001b[0m \u001b[31m3.4 MB/s\u001b[0m eta \u001b[36m0:00:00\u001b[0m\n",
      "\u001b[?25hCollecting antlr4-python3-runtime==4.9.* (from hydra-core>=1.2.0->ultralytics==8.0.0)\n",
      "  Downloading antlr4-python3-runtime-4.9.3.tar.gz (117 kB)\n",
      "\u001b[2K     \u001b[38;2;114;156;31m━━━━━━━━━━━━━━━━━━━━━━━━━━━━━━━━━━━━━━━\u001b[0m \u001b[32m117.0/117.0 kB\u001b[0m \u001b[31m4.8 MB/s\u001b[0m eta \u001b[36m0:00:00\u001b[0m\n",
      "\u001b[?25h  Preparing metadata (setup.py) ... \u001b[?25ldone\n",
      "\u001b[?25hRequirement already satisfied: packaging in /home/prashan-kumar/anaconda3/lib/python3.11/site-packages (from hydra-core>=1.2.0->ultralytics==8.0.0) (23.1)\n",
      "Requirement already satisfied: contourpy>=1.0.1 in /home/prashan-kumar/anaconda3/lib/python3.11/site-packages (from matplotlib>=3.2.2->ultralytics==8.0.0) (1.0.5)\n",
      "Requirement already satisfied: cycler>=0.10 in /home/prashan-kumar/anaconda3/lib/python3.11/site-packages (from matplotlib>=3.2.2->ultralytics==8.0.0) (0.11.0)\n",
      "Requirement already satisfied: fonttools>=4.22.0 in /home/prashan-kumar/anaconda3/lib/python3.11/site-packages (from matplotlib>=3.2.2->ultralytics==8.0.0) (4.25.0)\n",
      "Requirement already satisfied: kiwisolver>=1.0.1 in /home/prashan-kumar/anaconda3/lib/python3.11/site-packages (from matplotlib>=3.2.2->ultralytics==8.0.0) (1.4.4)\n",
      "Requirement already satisfied: pyparsing<3.1,>=2.3.1 in /home/prashan-kumar/anaconda3/lib/python3.11/site-packages (from matplotlib>=3.2.2->ultralytics==8.0.0) (3.0.9)\n",
      "Requirement already satisfied: python-dateutil>=2.7 in /home/prashan-kumar/anaconda3/lib/python3.11/site-packages (from matplotlib>=3.2.2->ultralytics==8.0.0) (2.8.2)\n",
      "Requirement already satisfied: pytz>=2020.1 in /home/prashan-kumar/anaconda3/lib/python3.11/site-packages (from pandas>=1.1.4->ultralytics==8.0.0) (2023.3.post1)\n",
      "Requirement already satisfied: tzdata>=2022.1 in /home/prashan-kumar/anaconda3/lib/python3.11/site-packages (from pandas>=1.1.4->ultralytics==8.0.0) (2023.3)\n",
      "Requirement already satisfied: charset-normalizer<4,>=2 in /home/prashan-kumar/anaconda3/lib/python3.11/site-packages (from requests>=2.23.0->ultralytics==8.0.0) (2.0.4)\n",
      "Requirement already satisfied: idna<4,>=2.5 in /home/prashan-kumar/anaconda3/lib/python3.11/site-packages (from requests>=2.23.0->ultralytics==8.0.0) (3.4)\n",
      "Requirement already satisfied: urllib3<3,>=1.21.1 in /home/prashan-kumar/anaconda3/lib/python3.11/site-packages (from requests>=2.23.0->ultralytics==8.0.0) (1.26.16)\n",
      "Requirement already satisfied: certifi>=2017.4.17 in /home/prashan-kumar/anaconda3/lib/python3.11/site-packages (from requests>=2.23.0->ultralytics==8.0.0) (2023.11.17)\n",
      "Collecting absl-py>=0.4 (from tensorboard>=2.4.1->ultralytics==8.0.0)\n",
      "  Obtaining dependency information for absl-py>=0.4 from https://files.pythonhosted.org/packages/01/e4/dc0a1dcc4e74e08d7abedab278c795eef54a224363bb18f5692f416d834f/absl_py-2.0.0-py3-none-any.whl.metadata\n",
      "  Downloading absl_py-2.0.0-py3-none-any.whl.metadata (2.3 kB)\n",
      "Collecting grpcio>=1.48.2 (from tensorboard>=2.4.1->ultralytics==8.0.0)\n",
      "  Obtaining dependency information for grpcio>=1.48.2 from https://files.pythonhosted.org/packages/de/01/a8d9bcc59526f22b8fef29c234cc63434f05dae1154d979222c02b31a557/grpcio-1.60.0-cp311-cp311-manylinux_2_17_x86_64.manylinux2014_x86_64.whl.metadata\n",
      "  Downloading grpcio-1.60.0-cp311-cp311-manylinux_2_17_x86_64.manylinux2014_x86_64.whl.metadata (4.0 kB)\n",
      "Collecting google-auth<3,>=1.6.3 (from tensorboard>=2.4.1->ultralytics==8.0.0)\n",
      "  Obtaining dependency information for google-auth<3,>=1.6.3 from https://files.pythonhosted.org/packages/aa/42/c3873f5a4369d28eb0006bfc80837f28b18bd4e04526f55cc9c8eac7a803/google_auth-2.26.2-py2.py3-none-any.whl.metadata\n",
      "  Downloading google_auth-2.26.2-py2.py3-none-any.whl.metadata (4.7 kB)\n",
      "Collecting google-auth-oauthlib<2,>=0.5 (from tensorboard>=2.4.1->ultralytics==8.0.0)\n",
      "  Obtaining dependency information for google-auth-oauthlib<2,>=0.5 from https://files.pythonhosted.org/packages/71/bf/9e125754d1adb3bc4bd206c4e5df756513b1d23675ac06caa471278d1f3f/google_auth_oauthlib-1.2.0-py2.py3-none-any.whl.metadata\n",
      "  Downloading google_auth_oauthlib-1.2.0-py2.py3-none-any.whl.metadata (2.7 kB)\n",
      "Requirement already satisfied: markdown>=2.6.8 in /home/prashan-kumar/anaconda3/lib/python3.11/site-packages (from tensorboard>=2.4.1->ultralytics==8.0.0) (3.4.1)\n"
     ]
    },
    {
     "name": "stdout",
     "output_type": "stream",
     "text": [
      "Collecting protobuf<4.24,>=3.19.6 (from tensorboard>=2.4.1->ultralytics==8.0.0)\n",
      "  Obtaining dependency information for protobuf<4.24,>=3.19.6 from https://files.pythonhosted.org/packages/01/cb/445b3e465abdb8042a41957dc8f60c54620dc7540dbcf9b458a921531ca2/protobuf-4.23.4-cp37-abi3-manylinux2014_x86_64.whl.metadata\n",
      "  Downloading protobuf-4.23.4-cp37-abi3-manylinux2014_x86_64.whl.metadata (540 bytes)\n",
      "Requirement already satisfied: setuptools>=41.0.0 in /home/prashan-kumar/anaconda3/lib/python3.11/site-packages (from tensorboard>=2.4.1->ultralytics==8.0.0) (68.0.0)\n",
      "Requirement already satisfied: six>1.9 in /home/prashan-kumar/anaconda3/lib/python3.11/site-packages (from tensorboard>=2.4.1->ultralytics==8.0.0) (1.16.0)\n",
      "Collecting tensorboard-data-server<0.8.0,>=0.7.0 (from tensorboard>=2.4.1->ultralytics==8.0.0)\n",
      "  Obtaining dependency information for tensorboard-data-server<0.8.0,>=0.7.0 from https://files.pythonhosted.org/packages/73/c6/825dab04195756cf8ff2e12698f22513b3db2f64925bdd41671bfb33aaa5/tensorboard_data_server-0.7.2-py3-none-manylinux_2_31_x86_64.whl.metadata\n",
      "  Downloading tensorboard_data_server-0.7.2-py3-none-manylinux_2_31_x86_64.whl.metadata (1.1 kB)\n",
      "Requirement already satisfied: werkzeug>=1.0.1 in /home/prashan-kumar/anaconda3/lib/python3.11/site-packages (from tensorboard>=2.4.1->ultralytics==8.0.0) (2.2.3)\n",
      "Requirement already satisfied: filelock in /home/prashan-kumar/anaconda3/lib/python3.11/site-packages (from torch>=1.7.0->ultralytics==8.0.0) (3.9.0)\n",
      "Requirement already satisfied: typing-extensions in /home/prashan-kumar/anaconda3/lib/python3.11/site-packages (from torch>=1.7.0->ultralytics==8.0.0) (4.7.1)\n",
      "Requirement already satisfied: sympy in /home/prashan-kumar/anaconda3/lib/python3.11/site-packages (from torch>=1.7.0->ultralytics==8.0.0) (1.11.1)\n",
      "Requirement already satisfied: networkx in /home/prashan-kumar/anaconda3/lib/python3.11/site-packages (from torch>=1.7.0->ultralytics==8.0.0) (3.1)\n",
      "Requirement already satisfied: jinja2 in /home/prashan-kumar/anaconda3/lib/python3.11/site-packages (from torch>=1.7.0->ultralytics==8.0.0) (3.1.2)\n",
      "Requirement already satisfied: fsspec in /home/prashan-kumar/anaconda3/lib/python3.11/site-packages (from torch>=1.7.0->ultralytics==8.0.0) (2023.4.0)\n",
      "Requirement already satisfied: nvidia-cuda-nvrtc-cu12==12.1.105 in /home/prashan-kumar/anaconda3/lib/python3.11/site-packages (from torch>=1.7.0->ultralytics==8.0.0) (12.1.105)\n",
      "Requirement already satisfied: nvidia-cuda-runtime-cu12==12.1.105 in /home/prashan-kumar/anaconda3/lib/python3.11/site-packages (from torch>=1.7.0->ultralytics==8.0.0) (12.1.105)\n",
      "Requirement already satisfied: nvidia-cuda-cupti-cu12==12.1.105 in /home/prashan-kumar/anaconda3/lib/python3.11/site-packages (from torch>=1.7.0->ultralytics==8.0.0) (12.1.105)\n",
      "Requirement already satisfied: nvidia-cudnn-cu12==8.9.2.26 in /home/prashan-kumar/anaconda3/lib/python3.11/site-packages (from torch>=1.7.0->ultralytics==8.0.0) (8.9.2.26)\n",
      "Requirement already satisfied: nvidia-cublas-cu12==12.1.3.1 in /home/prashan-kumar/anaconda3/lib/python3.11/site-packages (from torch>=1.7.0->ultralytics==8.0.0) (12.1.3.1)\n",
      "Requirement already satisfied: nvidia-cufft-cu12==11.0.2.54 in /home/prashan-kumar/anaconda3/lib/python3.11/site-packages (from torch>=1.7.0->ultralytics==8.0.0) (11.0.2.54)\n",
      "Requirement already satisfied: nvidia-curand-cu12==10.3.2.106 in /home/prashan-kumar/anaconda3/lib/python3.11/site-packages (from torch>=1.7.0->ultralytics==8.0.0) (10.3.2.106)\n",
      "Requirement already satisfied: nvidia-cusolver-cu12==11.4.5.107 in /home/prashan-kumar/anaconda3/lib/python3.11/site-packages (from torch>=1.7.0->ultralytics==8.0.0) (11.4.5.107)\n",
      "Requirement already satisfied: nvidia-cusparse-cu12==12.1.0.106 in /home/prashan-kumar/anaconda3/lib/python3.11/site-packages (from torch>=1.7.0->ultralytics==8.0.0) (12.1.0.106)\n",
      "Requirement already satisfied: nvidia-nccl-cu12==2.18.1 in /home/prashan-kumar/anaconda3/lib/python3.11/site-packages (from torch>=1.7.0->ultralytics==8.0.0) (2.18.1)\n",
      "Requirement already satisfied: nvidia-nvtx-cu12==12.1.105 in /home/prashan-kumar/anaconda3/lib/python3.11/site-packages (from torch>=1.7.0->ultralytics==8.0.0) (12.1.105)\n",
      "Requirement already satisfied: triton==2.1.0 in /home/prashan-kumar/anaconda3/lib/python3.11/site-packages (from torch>=1.7.0->ultralytics==8.0.0) (2.1.0)\n",
      "Requirement already satisfied: nvidia-nvjitlink-cu12 in /home/prashan-kumar/anaconda3/lib/python3.11/site-packages (from nvidia-cusolver-cu12==11.4.5.107->torch>=1.7.0->ultralytics==8.0.0) (12.3.101)\n",
      "Requirement already satisfied: backcall in /home/prashan-kumar/anaconda3/lib/python3.11/site-packages (from ipython->ultralytics==8.0.0) (0.2.0)\n",
      "Requirement already satisfied: decorator in /home/prashan-kumar/anaconda3/lib/python3.11/site-packages (from ipython->ultralytics==8.0.0) (5.1.1)\n",
      "Requirement already satisfied: jedi>=0.16 in /home/prashan-kumar/anaconda3/lib/python3.11/site-packages (from ipython->ultralytics==8.0.0) (0.18.1)\n",
      "Requirement already satisfied: matplotlib-inline in /home/prashan-kumar/anaconda3/lib/python3.11/site-packages (from ipython->ultralytics==8.0.0) (0.1.6)\n",
      "Requirement already satisfied: pickleshare in /home/prashan-kumar/anaconda3/lib/python3.11/site-packages (from ipython->ultralytics==8.0.0) (0.7.5)\n",
      "Requirement already satisfied: prompt-toolkit!=3.0.37,<3.1.0,>=3.0.30 in /home/prashan-kumar/anaconda3/lib/python3.11/site-packages (from ipython->ultralytics==8.0.0) (3.0.36)\n",
      "Requirement already satisfied: pygments>=2.4.0 in /home/prashan-kumar/anaconda3/lib/python3.11/site-packages (from ipython->ultralytics==8.0.0) (2.15.1)\n",
      "Requirement already satisfied: stack-data in /home/prashan-kumar/anaconda3/lib/python3.11/site-packages (from ipython->ultralytics==8.0.0) (0.2.0)\n",
      "Requirement already satisfied: traitlets>=5 in /home/prashan-kumar/anaconda3/lib/python3.11/site-packages (from ipython->ultralytics==8.0.0) (5.7.1)\n",
      "Requirement already satisfied: pexpect>4.3 in /home/prashan-kumar/anaconda3/lib/python3.11/site-packages (from ipython->ultralytics==8.0.0) (4.8.0)\n",
      "Collecting smmap<6,>=3.0.1 (from gitdb<5,>=4.0.1->GitPython>=3.1.24->ultralytics==8.0.0)\n",
      "  Obtaining dependency information for smmap<6,>=3.0.1 from https://files.pythonhosted.org/packages/a7/a5/10f97f73544edcdef54409f1d839f6049a0d79df68adbc1ceb24d1aaca42/smmap-5.0.1-py3-none-any.whl.metadata\n",
      "  Downloading smmap-5.0.1-py3-none-any.whl.metadata (4.3 kB)\n",
      "Collecting cachetools<6.0,>=2.0.0 (from google-auth<3,>=1.6.3->tensorboard>=2.4.1->ultralytics==8.0.0)\n",
      "  Obtaining dependency information for cachetools<6.0,>=2.0.0 from https://files.pythonhosted.org/packages/a2/91/2d843adb9fbd911e0da45fbf6f18ca89d07a087c3daa23e955584f90ebf4/cachetools-5.3.2-py3-none-any.whl.metadata\n",
      "  Downloading cachetools-5.3.2-py3-none-any.whl.metadata (5.2 kB)\n",
      "Requirement already satisfied: pyasn1-modules>=0.2.1 in /home/prashan-kumar/anaconda3/lib/python3.11/site-packages (from google-auth<3,>=1.6.3->tensorboard>=2.4.1->ultralytics==8.0.0) (0.2.8)\n",
      "Collecting rsa<5,>=3.1.4 (from google-auth<3,>=1.6.3->tensorboard>=2.4.1->ultralytics==8.0.0)\n",
      "  Downloading rsa-4.9-py3-none-any.whl (34 kB)\n",
      "Collecting requests-oauthlib>=0.7.0 (from google-auth-oauthlib<2,>=0.5->tensorboard>=2.4.1->ultralytics==8.0.0)\n",
      "  Downloading requests_oauthlib-1.3.1-py2.py3-none-any.whl (23 kB)\n",
      "Requirement already satisfied: parso<0.9.0,>=0.8.0 in /home/prashan-kumar/anaconda3/lib/python3.11/site-packages (from jedi>=0.16->ipython->ultralytics==8.0.0) (0.8.3)\n",
      "Requirement already satisfied: ptyprocess>=0.5 in /home/prashan-kumar/anaconda3/lib/python3.11/site-packages (from pexpect>4.3->ipython->ultralytics==8.0.0) (0.7.0)\n",
      "Requirement already satisfied: wcwidth in /home/prashan-kumar/anaconda3/lib/python3.11/site-packages (from prompt-toolkit!=3.0.37,<3.1.0,>=3.0.30->ipython->ultralytics==8.0.0) (0.2.5)\n",
      "Requirement already satisfied: MarkupSafe>=2.1.1 in /home/prashan-kumar/anaconda3/lib/python3.11/site-packages (from werkzeug>=1.0.1->tensorboard>=2.4.1->ultralytics==8.0.0) (2.1.1)\n",
      "Requirement already satisfied: executing in /home/prashan-kumar/anaconda3/lib/python3.11/site-packages (from stack-data->ipython->ultralytics==8.0.0) (0.8.3)\n",
      "Requirement already satisfied: asttokens in /home/prashan-kumar/anaconda3/lib/python3.11/site-packages (from stack-data->ipython->ultralytics==8.0.0) (2.0.5)\n",
      "Requirement already satisfied: pure-eval in /home/prashan-kumar/anaconda3/lib/python3.11/site-packages (from stack-data->ipython->ultralytics==8.0.0) (0.2.2)\n",
      "Requirement already satisfied: mpmath>=0.19 in /home/prashan-kumar/anaconda3/lib/python3.11/site-packages (from sympy->torch>=1.7.0->ultralytics==8.0.0) (1.3.0)\n"
     ]
    },
    {
     "name": "stdout",
     "output_type": "stream",
     "text": [
      "Requirement already satisfied: pyasn1<0.5.0,>=0.4.6 in /home/prashan-kumar/anaconda3/lib/python3.11/site-packages (from pyasn1-modules>=0.2.1->google-auth<3,>=1.6.3->tensorboard>=2.4.1->ultralytics==8.0.0) (0.4.8)\n",
      "Collecting oauthlib>=3.0.0 (from requests-oauthlib>=0.7.0->google-auth-oauthlib<2,>=0.5->tensorboard>=2.4.1->ultralytics==8.0.0)\n",
      "  Downloading oauthlib-3.2.2-py3-none-any.whl (151 kB)\n",
      "\u001b[2K     \u001b[38;2;114;156;31m━━━━━━━━━━━━━━━━━━━━━━━━━━━━━━━━━━━━━━\u001b[0m \u001b[32m151.7/151.7 kB\u001b[0m \u001b[31m30.6 kB/s\u001b[0m eta \u001b[36m0:00:00\u001b[0m31m24.5 kB/s\u001b[0m eta \u001b[36m0:00:02\u001b[0m\n",
      "\u001b[?25hDownloading GitPython-3.1.41-py3-none-any.whl (196 kB)\n",
      "\u001b[2K   \u001b[38;2;114;156;31m━━━━━━━━━━━━━━━━━━━━━━━━━━━━━━━━━━━━━━━\u001b[0m \u001b[32m196.4/196.4 kB\u001b[0m \u001b[31m498.6 kB/s\u001b[0m eta \u001b[36m0:00:00\u001b[0m1m465.8 kB/s\u001b[0m eta \u001b[36m0:00:01\u001b[0m\n",
      "\u001b[?25hUsing cached opencv_python-4.9.0.80-cp37-abi3-manylinux_2_17_x86_64.manylinux2014_x86_64.whl (62.2 MB)\n",
      "Downloading tensorboard-2.15.1-py3-none-any.whl (5.5 MB)\n",
      "\u001b[2K   \u001b[38;2;114;156;31m━━━━━━━━━━━━━━━━━━━━━━━━━━━━━━━━━━━━━━━━\u001b[0m \u001b[32m5.5/5.5 MB\u001b[0m \u001b[31m614.2 kB/s\u001b[0m eta \u001b[36m0:00:00\u001b[0mm eta \u001b[36m0:00:01\u001b[0m[36m0:00:01\u001b[0m\n",
      "\u001b[?25hDownloading absl_py-2.0.0-py3-none-any.whl (130 kB)\n",
      "\u001b[2K   \u001b[38;2;114;156;31m━━━━━━━━━━━━━━━━━━━━━━━━━━━━━━━━━━━━━━━\u001b[0m \u001b[32m130.2/130.2 kB\u001b[0m \u001b[31m677.7 kB/s\u001b[0m eta \u001b[36m0:00:00\u001b[0m1m655.2 kB/s\u001b[0m eta \u001b[36m0:00:01\u001b[0m\n",
      "\u001b[?25hDownloading gitdb-4.0.11-py3-none-any.whl (62 kB)\n",
      "\u001b[2K   \u001b[38;2;114;156;31m━━━━━━━━━━━━━━━━━━━━━━━━━━━━━━━━━━━━━━━━\u001b[0m \u001b[32m62.7/62.7 kB\u001b[0m \u001b[31m864.4 kB/s\u001b[0m eta \u001b[36m0:00:00\u001b[0m[36m0:00:01\u001b[0meta \u001b[36m0:00:01\u001b[0m\n",
      "\u001b[?25hDownloading google_auth-2.26.2-py2.py3-none-any.whl (186 kB)\n",
      "\u001b[2K   \u001b[38;2;114;156;31m━━━━━━━━━━━━━━━━━━━━━━━━━━━━━━━━━━━━━━━\u001b[0m \u001b[32m186.5/186.5 kB\u001b[0m \u001b[31m681.3 kB/s\u001b[0m eta \u001b[36m0:00:00\u001b[0m kB/s\u001b[0m eta \u001b[36m0:00:01\u001b[0m:01\u001b[0m\n",
      "\u001b[?25hDownloading google_auth_oauthlib-1.2.0-py2.py3-none-any.whl (24 kB)\n",
      "Downloading grpcio-1.60.0-cp311-cp311-manylinux_2_17_x86_64.manylinux2014_x86_64.whl (5.4 MB)\n",
      "\u001b[2K   \u001b[38;2;114;156;31m━━━━━━━━━━━━━━━━━━━━━━━━━━━━━━━━━━━━━━━━\u001b[0m \u001b[32m5.4/5.4 MB\u001b[0m \u001b[31m510.2 kB/s\u001b[0m eta \u001b[36m0:00:00\u001b[0mm eta \u001b[36m0:00:01\u001b[0m[36m0:00:01\u001b[0m\n",
      "\u001b[?25hDownloading protobuf-4.23.4-cp37-abi3-manylinux2014_x86_64.whl (304 kB)\n",
      "\u001b[2K   \u001b[38;2;114;156;31m━━━━━━━━━━━━━━━━━━━━━━━━━━━━━━━━━━━━━━━\u001b[0m \u001b[32m304.5/304.5 kB\u001b[0m \u001b[31m514.3 kB/s\u001b[0m eta \u001b[36m0:00:00\u001b[0m kB/s\u001b[0m eta \u001b[36m0:00:01\u001b[0m:01\u001b[0m\n",
      "\u001b[?25hDownloading tensorboard_data_server-0.7.2-py3-none-manylinux_2_31_x86_64.whl (6.6 MB)\n",
      "\u001b[2K   \u001b[38;2;114;156;31m━━━━━━━━━━━━━━━━━━━━━━━━━━━━━━━━━━━━━━━━\u001b[0m \u001b[32m6.6/6.6 MB\u001b[0m \u001b[31m554.4 kB/s\u001b[0m eta \u001b[36m0:00:00\u001b[0mm eta \u001b[36m0:00:01\u001b[0m[36m0:00:01\u001b[0m\n",
      "\u001b[?25hDownloading cachetools-5.3.2-py3-none-any.whl (9.3 kB)\n",
      "Downloading smmap-5.0.1-py3-none-any.whl (24 kB)\n",
      "Building wheels for collected packages: antlr4-python3-runtime\n",
      "  Building wheel for antlr4-python3-runtime (setup.py) ... \u001b[?25ldone\n",
      "\u001b[?25h  Created wheel for antlr4-python3-runtime: filename=antlr4_python3_runtime-4.9.3-py3-none-any.whl size=144554 sha256=781febc672238ec0f4769b8477ecfe1f8edfb29d881a7d8323a88176dfb5c59c\n",
      "  Stored in directory: /home/prashan-kumar/.cache/pip/wheels/1a/97/32/461f837398029ad76911109f07047fde1d7b661a147c7c56d1\n",
      "Successfully built antlr4-python3-runtime\n",
      "Installing collected packages: antlr4-python3-runtime, tensorboard-data-server, smmap, rsa, protobuf, opencv-python, omegaconf, oauthlib, grpcio, cachetools, absl-py, requests-oauthlib, hydra-core, google-auth, gitdb, google-auth-oauthlib, GitPython, thop, tensorboard, ultralytics\n",
      "Successfully installed GitPython-3.1.41 absl-py-2.0.0 antlr4-python3-runtime-4.9.3 cachetools-5.3.2 gitdb-4.0.11 google-auth-2.26.2 google-auth-oauthlib-1.2.0 grpcio-1.60.0 hydra-core-1.3.2 oauthlib-3.2.2 omegaconf-2.3.0 opencv-python-4.9.0.80 protobuf-4.23.4 requests-oauthlib-1.3.1 rsa-4.9 smmap-5.0.1 tensorboard-2.15.1 tensorboard-data-server-0.7.2 thop-0.1.1.post2209072238 ultralytics-8.0.0\n",
      "Requirement already satisfied: easyocr in /home/prashan-kumar/anaconda3/lib/python3.11/site-packages (1.7.1)\n",
      "Requirement already satisfied: torch in /home/prashan-kumar/anaconda3/lib/python3.11/site-packages (from easyocr) (2.1.2)\n",
      "Requirement already satisfied: torchvision>=0.5 in /home/prashan-kumar/anaconda3/lib/python3.11/site-packages (from easyocr) (0.16.2)\n",
      "Requirement already satisfied: opencv-python-headless in /home/prashan-kumar/anaconda3/lib/python3.11/site-packages (from easyocr) (4.9.0.80)\n",
      "Requirement already satisfied: scipy in /home/prashan-kumar/anaconda3/lib/python3.11/site-packages (from easyocr) (1.11.1)\n",
      "Requirement already satisfied: numpy in /home/prashan-kumar/anaconda3/lib/python3.11/site-packages (from easyocr) (1.24.3)\n",
      "Requirement already satisfied: Pillow in /home/prashan-kumar/anaconda3/lib/python3.11/site-packages (from easyocr) (9.4.0)\n",
      "Requirement already satisfied: scikit-image in /home/prashan-kumar/anaconda3/lib/python3.11/site-packages (from easyocr) (0.20.0)\n",
      "Requirement already satisfied: python-bidi in /home/prashan-kumar/anaconda3/lib/python3.11/site-packages (from easyocr) (0.4.2)\n",
      "Requirement already satisfied: PyYAML in /home/prashan-kumar/anaconda3/lib/python3.11/site-packages (from easyocr) (6.0)\n",
      "Requirement already satisfied: Shapely in /home/prashan-kumar/anaconda3/lib/python3.11/site-packages (from easyocr) (2.0.2)\n",
      "Requirement already satisfied: pyclipper in /home/prashan-kumar/anaconda3/lib/python3.11/site-packages (from easyocr) (1.3.0.post5)\n",
      "Requirement already satisfied: ninja in /home/prashan-kumar/anaconda3/lib/python3.11/site-packages (from easyocr) (1.11.1.1)\n",
      "Requirement already satisfied: requests in /home/prashan-kumar/anaconda3/lib/python3.11/site-packages (from torchvision>=0.5->easyocr) (2.31.0)\n",
      "Requirement already satisfied: filelock in /home/prashan-kumar/anaconda3/lib/python3.11/site-packages (from torch->easyocr) (3.9.0)\n",
      "Requirement already satisfied: typing-extensions in /home/prashan-kumar/anaconda3/lib/python3.11/site-packages (from torch->easyocr) (4.7.1)\n",
      "Requirement already satisfied: sympy in /home/prashan-kumar/anaconda3/lib/python3.11/site-packages (from torch->easyocr) (1.11.1)\n",
      "Requirement already satisfied: networkx in /home/prashan-kumar/anaconda3/lib/python3.11/site-packages (from torch->easyocr) (3.1)\n",
      "Requirement already satisfied: jinja2 in /home/prashan-kumar/anaconda3/lib/python3.11/site-packages (from torch->easyocr) (3.1.2)\n",
      "Requirement already satisfied: fsspec in /home/prashan-kumar/anaconda3/lib/python3.11/site-packages (from torch->easyocr) (2023.4.0)\n",
      "Requirement already satisfied: nvidia-cuda-nvrtc-cu12==12.1.105 in /home/prashan-kumar/anaconda3/lib/python3.11/site-packages (from torch->easyocr) (12.1.105)\n",
      "Requirement already satisfied: nvidia-cuda-runtime-cu12==12.1.105 in /home/prashan-kumar/anaconda3/lib/python3.11/site-packages (from torch->easyocr) (12.1.105)\n",
      "Requirement already satisfied: nvidia-cuda-cupti-cu12==12.1.105 in /home/prashan-kumar/anaconda3/lib/python3.11/site-packages (from torch->easyocr) (12.1.105)\n",
      "Requirement already satisfied: nvidia-cudnn-cu12==8.9.2.26 in /home/prashan-kumar/anaconda3/lib/python3.11/site-packages (from torch->easyocr) (8.9.2.26)\n",
      "Requirement already satisfied: nvidia-cublas-cu12==12.1.3.1 in /home/prashan-kumar/anaconda3/lib/python3.11/site-packages (from torch->easyocr) (12.1.3.1)\n",
      "Requirement already satisfied: nvidia-cufft-cu12==11.0.2.54 in /home/prashan-kumar/anaconda3/lib/python3.11/site-packages (from torch->easyocr) (11.0.2.54)\n",
      "Requirement already satisfied: nvidia-curand-cu12==10.3.2.106 in /home/prashan-kumar/anaconda3/lib/python3.11/site-packages (from torch->easyocr) (10.3.2.106)\n",
      "Requirement already satisfied: nvidia-cusolver-cu12==11.4.5.107 in /home/prashan-kumar/anaconda3/lib/python3.11/site-packages (from torch->easyocr) (11.4.5.107)\n",
      "Requirement already satisfied: nvidia-cusparse-cu12==12.1.0.106 in /home/prashan-kumar/anaconda3/lib/python3.11/site-packages (from torch->easyocr) (12.1.0.106)\n",
      "Requirement already satisfied: nvidia-nccl-cu12==2.18.1 in /home/prashan-kumar/anaconda3/lib/python3.11/site-packages (from torch->easyocr) (2.18.1)\n",
      "Requirement already satisfied: nvidia-nvtx-cu12==12.1.105 in /home/prashan-kumar/anaconda3/lib/python3.11/site-packages (from torch->easyocr) (12.1.105)\n",
      "Requirement already satisfied: triton==2.1.0 in /home/prashan-kumar/anaconda3/lib/python3.11/site-packages (from torch->easyocr) (2.1.0)\n"
     ]
    },
    {
     "name": "stdout",
     "output_type": "stream",
     "text": [
      "Requirement already satisfied: nvidia-nvjitlink-cu12 in /home/prashan-kumar/anaconda3/lib/python3.11/site-packages (from nvidia-cusolver-cu12==11.4.5.107->torch->easyocr) (12.3.101)\n",
      "Requirement already satisfied: six in /home/prashan-kumar/anaconda3/lib/python3.11/site-packages (from python-bidi->easyocr) (1.16.0)\n",
      "Requirement already satisfied: imageio>=2.4.1 in /home/prashan-kumar/anaconda3/lib/python3.11/site-packages (from scikit-image->easyocr) (2.31.1)\n",
      "Requirement already satisfied: tifffile>=2019.7.26 in /home/prashan-kumar/anaconda3/lib/python3.11/site-packages (from scikit-image->easyocr) (2023.4.12)\n",
      "Requirement already satisfied: PyWavelets>=1.1.1 in /home/prashan-kumar/anaconda3/lib/python3.11/site-packages (from scikit-image->easyocr) (1.4.1)\n",
      "Requirement already satisfied: packaging>=20.0 in /home/prashan-kumar/anaconda3/lib/python3.11/site-packages (from scikit-image->easyocr) (23.1)\n",
      "Requirement already satisfied: lazy_loader>=0.1 in /home/prashan-kumar/anaconda3/lib/python3.11/site-packages (from scikit-image->easyocr) (0.2)\n",
      "Requirement already satisfied: MarkupSafe>=2.0 in /home/prashan-kumar/anaconda3/lib/python3.11/site-packages (from jinja2->torch->easyocr) (2.1.1)\n",
      "Requirement already satisfied: charset-normalizer<4,>=2 in /home/prashan-kumar/anaconda3/lib/python3.11/site-packages (from requests->torchvision>=0.5->easyocr) (2.0.4)\n",
      "Requirement already satisfied: idna<4,>=2.5 in /home/prashan-kumar/anaconda3/lib/python3.11/site-packages (from requests->torchvision>=0.5->easyocr) (3.4)\n",
      "Requirement already satisfied: urllib3<3,>=1.21.1 in /home/prashan-kumar/anaconda3/lib/python3.11/site-packages (from requests->torchvision>=0.5->easyocr) (1.26.16)\n",
      "Requirement already satisfied: certifi>=2017.4.17 in /home/prashan-kumar/anaconda3/lib/python3.11/site-packages (from requests->torchvision>=0.5->easyocr) (2023.11.17)\n",
      "Requirement already satisfied: mpmath>=0.19 in /home/prashan-kumar/anaconda3/lib/python3.11/site-packages (from sympy->torch->easyocr) (1.3.0)\n"
     ]
    }
   ],
   "source": [
    "!pip install ultralytics==8.0.0\n",
    "\n",
    "!pip install easyocr"
   ]
  },
  {
   "cell_type": "code",
   "execution_count": 14,
   "id": "6d9853df",
   "metadata": {},
   "outputs": [
    {
     "name": "stderr",
     "output_type": "stream",
     "text": [
      "\u001b[34m\u001b[1myolo/engine/trainer: \u001b[0mtask=detect, mode=train, model=yolov8n.yaml, data=/home/prashan-kumar/Desktop/RJPolice_ANPR/rjpoliceLeftShift-ANPR/dataset2/data.yaml, epochs=3, patience=50, batch=16, imgsz=640, save=True, cache=False, device=cpu, workers=8, project=None, name=None, exist_ok=False, pretrained=False, optimizer=SGD, verbose=False, seed=0, deterministic=True, single_cls=False, image_weights=False, rect=False, cos_lr=False, close_mosaic=10, resume=False, overlap_mask=True, mask_ratio=4, dropout=False, val=True, save_json=False, save_hybrid=False, conf=0.001, iou=0.7, max_det=300, half=True, dnn=False, plots=True, source=ultralytics/assets/, show=False, save_txt=False, save_conf=False, save_crop=False, hide_labels=False, hide_conf=False, vid_stride=1, line_thickness=3, visualize=False, augment=False, agnostic_nms=False, retina_masks=False, format=torchscript, keras=False, optimize=False, int8=False, dynamic=False, simplify=False, opset=17, workspace=4, nms=False, lr0=0.01, lrf=0.01, momentum=0.937, weight_decay=0.001, warmup_epochs=3.0, warmup_momentum=0.8, warmup_bias_lr=0.1, box=7.5, cls=0.5, dfl=1.5, fl_gamma=0.0, label_smoothing=0.0, nbs=64, hsv_h=0.015, hsv_s=0.7, hsv_v=0.4, degrees=0.0, translate=0.1, scale=0.5, shear=0.0, perspective=0.0, flipud=0.0, fliplr=0.5, mosaic=1.0, mixup=0.0, copy_paste=0.0, hydra={'output_subdir': None, 'run': {'dir': '.'}}, v5loader=True, save_dir=runs/detect/train10\n",
      "Ultralytics YOLOv8.0.3 🚀 Python-3.11.5 torch-2.1.2+cu121 CPU\n",
      "Overriding model.yaml nc=80 with nc=1\n",
      "\n",
      "                   from  n    params  module                                       arguments                     \n",
      "  0                  -1  1       464  ultralytics.nn.modules.Conv                  [3, 16, 3, 2]                 \n",
      "  1                  -1  1      4672  ultralytics.nn.modules.Conv                  [16, 32, 3, 2]                \n",
      "  2                  -1  1      7360  ultralytics.nn.modules.C2f                   [32, 32, 1, True]             \n",
      "  3                  -1  1     18560  ultralytics.nn.modules.Conv                  [32, 64, 3, 2]                \n",
      "  4                  -1  2     49664  ultralytics.nn.modules.C2f                   [64, 64, 2, True]             \n",
      "  5                  -1  1     73984  ultralytics.nn.modules.Conv                  [64, 128, 3, 2]               \n",
      "  6                  -1  2    197632  ultralytics.nn.modules.C2f                   [128, 128, 2, True]           \n",
      "  7                  -1  1    295424  ultralytics.nn.modules.Conv                  [128, 256, 3, 2]              \n",
      "  8                  -1  1    460288  ultralytics.nn.modules.C2f                   [256, 256, 1, True]           \n",
      "  9                  -1  1    164608  ultralytics.nn.modules.SPPF                  [256, 256, 5]                 \n",
      " 10                  -1  1         0  torch.nn.modules.upsampling.Upsample         [None, 2, 'nearest']          \n",
      " 11             [-1, 6]  1         0  ultralytics.nn.modules.Concat                [1]                           \n",
      " 12                  -1  1    148224  ultralytics.nn.modules.C2f                   [384, 128, 1]                 \n",
      " 13                  -1  1         0  torch.nn.modules.upsampling.Upsample         [None, 2, 'nearest']          \n",
      " 14             [-1, 4]  1         0  ultralytics.nn.modules.Concat                [1]                           \n",
      " 15                  -1  1     37248  ultralytics.nn.modules.C2f                   [192, 64, 1]                  \n",
      " 16                  -1  1     36992  ultralytics.nn.modules.Conv                  [64, 64, 3, 2]                \n",
      " 17            [-1, 12]  1         0  ultralytics.nn.modules.Concat                [1]                           \n",
      " 18                  -1  1    123648  ultralytics.nn.modules.C2f                   [192, 128, 1]                 \n",
      " 19                  -1  1    147712  ultralytics.nn.modules.Conv                  [128, 128, 3, 2]              \n",
      " 20             [-1, 9]  1         0  ultralytics.nn.modules.Concat                [1]                           \n",
      " 21                  -1  1    493056  ultralytics.nn.modules.C2f                   [384, 256, 1]                 \n",
      " 22        [15, 18, 21]  1    751507  ultralytics.nn.modules.Detect                [1, [64, 128, 256]]           \n",
      "Model summary: 225 layers, 3011043 parameters, 3011027 gradients, 8.2 GFLOPs\n",
      "\n",
      "Transferred 319/355 items from pretrained weights\n",
      "\u001b[34m\u001b[1moptimizer:\u001b[0m SGD(lr=0.01) with parameter groups 57 weight(decay=0.0), 64 weight(decay=0.001), 63 bias\n",
      "\u001b[34m\u001b[1mtrain: \u001b[0mScanning /home/prashan-kumar/Desktop/RJPolice_ANPR/rjpoliceLeftShift-ANPR/dataset2/\u001b[0m\n",
      "\u001b[34m\u001b[1mval: \u001b[0mScanning /home/prashan-kumar/Desktop/RJPolice_ANPR/rjpoliceLeftShift-ANPR/dataset2/va\u001b[0m\n",
      "Image sizes 640 train, 640 val\n",
      "Using 0 dataloader workers\n",
      "Logging results to \u001b[1mruns/detect/train10\u001b[0m\n",
      "Starting training for 3 epochs...\n",
      "\n",
      "      Epoch    GPU_mem   box_loss   cls_loss   dfl_loss  Instances       Size\n",
      "        1/3         0G      1.714      3.974      1.486          3        640: 100%|██████\n",
      "                 Class     Images  Instances      Box(P          R      mAP50  mAP50-95): \n",
      "                   all         60         64     0.0025      0.703     0.0814     0.0424\n",
      "\n",
      "      Epoch    GPU_mem   box_loss   cls_loss   dfl_loss  Instances       Size\n",
      "        2/3         0G      1.413        3.3      1.268          4        640: 100%|██████\n",
      "                 Class     Images  Instances      Box(P          R      mAP50  mAP50-95): \n",
      "                   all         60         64    0.00306      0.859      0.208      0.124\n",
      "\n",
      "      Epoch    GPU_mem   box_loss   cls_loss   dfl_loss  Instances       Size\n",
      "        3/3         0G      1.429      2.429      1.317          3        640: 100%|██████\n",
      "                 Class     Images  Instances      Box(P          R      mAP50  mAP50-95): \n",
      "                   all         60         64      0.003      0.844      0.406      0.251\n",
      "\n",
      "3 epochs completed in 0.151 hours.\n",
      "Optimizer stripped from runs/detect/train10/weights/last.pt, 6.3MB\n",
      "Optimizer stripped from runs/detect/train10/weights/best.pt, 6.3MB\n",
      "\n",
      "Validating runs/detect/train10/weights/best.pt...\n",
      "Ultralytics YOLOv8.0.3 🚀 Python-3.11.5 torch-2.1.2+cu121 CPU\n",
      "Fusing layers... \n",
      "Model summary: 168 layers, 3005843 parameters, 0 gradients, 8.1 GFLOPs\n",
      "                 Class     Images  Instances      Box(P          R      mAP50  mAP50-95): \n",
      "                   all         60         64      0.003      0.844      0.406      0.248\n",
      "Speed: 3.2ms pre-process, 190.1ms inference, 0.0ms loss, 13.4ms post-process per image\n",
      "Saving runs/detect/train10/predictions.json...\n",
      "Results saved to \u001b[1mruns/detect/train10\u001b[0m\n"
     ]
    },
    {
     "data": {
      "text/plain": [
       "'/home/prashan-kumar/Desktop/RJPolice_ANPR/rjpoliceLeftShift-ANPR'"
      ]
     },
     "execution_count": 14,
     "metadata": {},
     "output_type": "execute_result"
    }
   ],
   "source": [
    "from ultralytics import YOLO\n",
    "import os\n",
    "\n",
    "# current_directory = os.getcwd()\n",
    "\n",
    "model = YOLO('yolov8n.pt') \n",
    "results = model.train(data='/home/prashan-kumar/Desktop/RJPolice_ANPR/rjpoliceLeftShift-ANPR/dataset2/data.yaml', epochs=3, imgsz=640,device = 'cpu')\n",
    "\n",
    "# current_directory"
   ]
  },
  {
   "cell_type": "markdown",
   "id": "11636e18",
   "metadata": {},
   "source": [
    "# Test Object Detection Model:"
   ]
  },
  {
   "cell_type": "code",
   "execution_count": 46,
   "id": "0dc7196b",
   "metadata": {},
   "outputs": [
    {
     "name": "stderr",
     "output_type": "stream",
     "text": [
      "Ultralytics YOLOv8.0.3 🚀 Python-3.11.5 torch-2.1.2+cu121 CPU\n",
      "Fusing layers... \n",
      "Model summary: 168 layers, 3005843 parameters, 0 gradients, 8.1 GFLOPs\n",
      "image 1/1 /home/prashan-kumar/Desktop/RJPolice_ANPR/rjpoliceLeftShift-ANPR/image2.jpeg: 320x320 1 licence, 116.7ms\n",
      "Speed: 0.5ms pre-process, 116.7ms inference, 2.6ms postprocess per image at shape (1, 3, 320, 320)\n",
      "Results saved to \u001b[1mruns/detect/predict11\u001b[0m\n"
     ]
    },
    {
     "data": {
      "text/plain": [
       "[tensor([[ 98.00000,  95.00000, 169.00000, 115.00000,   0.88342,   0.00000]])]"
      ]
     },
     "execution_count": 46,
     "metadata": {},
     "output_type": "execute_result"
    }
   ],
   "source": [
    "from ultralytics import YOLO\n",
    "\n",
    "model = YOLO('/home/prashan-kumar/Desktop/RJPolice_ANPR/rjpoliceLeftShift-ANPR/ultralytics/runs/detect/train_model/weights/best.pt')\n",
    "\n",
    "results=model.predict('image2.jpeg', save=True, imgsz=320, conf=0.2)\n",
    "\n",
    "results"
   ]
  },
  {
   "cell_type": "markdown",
   "id": "af838f43",
   "metadata": {},
   "source": [
    "# Detect Text Using Easyocr:  "
   ]
  },
  {
   "cell_type": "code",
   "execution_count": 19,
   "id": "17f9b322",
   "metadata": {},
   "outputs": [],
   "source": [
    "import easyocr\n",
    "import cv2\n",
    "import numpy as np"
   ]
  },
  {
   "cell_type": "code",
   "execution_count": 48,
   "id": "d8ce09ee",
   "metadata": {},
   "outputs": [
    {
     "name": "stderr",
     "output_type": "stream",
     "text": [
      "Neither CUDA nor MPS are available - defaulting to CPU. Note: This module is much faster with a GPU.\n"
     ]
    },
    {
     "name": "stdout",
     "output_type": "stream",
     "text": [
      "Coordinates: [98.0, 95.0, 169.0, 115.0]\n",
      "Confidence Level: 0.8834210634231567\n",
      "text: \n"
     ]
    }
   ],
   "source": [
    "# reader = easyocr.Reader(['en'], gpu=True)\n",
    "\n",
    "# def perform_ocr_on_image(img_path, coordinates):\n",
    "#     img = cv2.imread(img_path)\n",
    "#     x, y, w, h = map(int, coordinates)\n",
    "#     cropped_img = img[y:h, x:w]\n",
    "\n",
    "#     gray_img = cv2.cvtColor(cropped_img, cv2.COLOR_RGB2GRAY)\n",
    "#     results = reader.readtext(gray_img)\n",
    "\n",
    "#     text = \"\"\n",
    "#     for res in results:\n",
    "#         if len(results) == 1 or (len(res[1]) > 6 and res[2] > 0.2):\n",
    "#             text = res[1]\n",
    "\n",
    "#     return str(text)\n",
    "# for prediction in results[0]:\n",
    "#     coordinates = prediction[:4].tolist()\n",
    "#     confidence_level = prediction[4].item()\n",
    "#     text_ocr = perform_ocr_on_image('image2.jpeg', coordinates)\n",
    "    \n",
    "#     print(\"Coordinates:\", coordinates)\n",
    "#     print(\"Confidence Level:\", confidence_level)\n",
    "#     print(\"text:\", text_ocr)\n",
    "    \n"
   ]
  },
  {
   "cell_type": "code",
   "execution_count": 49,
   "id": "17974afa",
   "metadata": {
    "scrolled": true
   },
   "outputs": [
    {
     "name": "stdout",
     "output_type": "stream",
     "text": [
      "Neither CUDA nor MPS are available - defaulting to CPU. Note: This module is much faster with a GPU.\n",
      "Ultralytics YOLOv8.0.3 🚀 Python-3.11.5 torch-2.1.2+cu121 CPU\n",
      "Fusing layers... \n",
      "Model summary: 168 layers, 3005843 parameters, 0 gradients, 8.1 GFLOPs\n",
      "image 1/1 /home/prashan-kumar/Desktop/RJPolice_ANPR/rjpoliceLeftShift-ANPR/image1.jpeg: 480x640 1 licence, 455.1ms\n",
      "Speed: 2.2ms pre-process, 455.1ms inference, 4.1ms postprocess per image at shape (1, 3, 640, 640)\n",
      "Results saved to \u001b[1mruns/detect/train13\u001b[0m\n"
     ]
    }
   ],
   "source": [
    "!python predict_modified.py model='/home/prashan-kumar/Desktop/RJPolice_ANPR/rjpoliceLeftShift-ANPR/ultralytics/runs/detect/train_model/weights/best.pt' source='image1.jpeg' "
   ]
  },
  {
   "cell_type": "code",
   "execution_count": null,
   "id": "b46625fb",
   "metadata": {},
   "outputs": [],
   "source": []
  }
 ],
 "metadata": {
  "kernelspec": {
   "display_name": "Python 3 (ipykernel)",
   "language": "python",
   "name": "python3"
  },
  "language_info": {
   "codemirror_mode": {
    "name": "ipython",
    "version": 3
   },
   "file_extension": ".py",
   "mimetype": "text/x-python",
   "name": "python",
   "nbconvert_exporter": "python",
   "pygments_lexer": "ipython3",
   "version": "3.11.5"
  }
 },
 "nbformat": 4,
 "nbformat_minor": 5
}
